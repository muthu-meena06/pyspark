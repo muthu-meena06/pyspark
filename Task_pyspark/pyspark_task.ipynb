{
  "cells": [
    {
      "cell_type": "code",
      "execution_count": 4,
      "metadata": {
        "colab": {
          "base_uri": "https://localhost:8080/"
        },
        "id": "BbjUEuo693pk",
        "outputId": "0b1b8a14-6703-4a81-fe49-5ba0123c8546"
      },
      "outputs": [
        {
          "name": "stdout",
          "output_type": "stream",
          "text": [
            "Requirement already satisfied: PySpark in /usr/local/lib/python3.10/dist-packages (3.4.1)\n",
            "Requirement already satisfied: py4j==0.10.9.7 in /usr/local/lib/python3.10/dist-packages (from PySpark) (0.10.9.7)\n",
            "Collecting findspark\n",
            "  Downloading findspark-2.0.1-py2.py3-none-any.whl (4.4 kB)\n",
            "Installing collected packages: findspark\n",
            "Successfully installed findspark-2.0.1\n"
          ]
        }
      ],
      "source": [
        "!pip install PySpark\n",
        "!pip install findspark"
      ]
    },
    {
      "cell_type": "code",
      "execution_count": 54,
      "metadata": {
        "colab": {
          "base_uri": "https://localhost:8080/"
        },
        "id": "VgkxIo8l9ula",
        "outputId": "39cf6c9f-25cf-476d-b5c2-5828c05cc3ed"
      },
      "outputs": [
        {
          "name": "stdout",
          "output_type": "stream",
          "text": [
            "+--------+-------------+--------------------+---------+---------+-----+-----------+-------------+----------------+---------------+-----------------+----------------+------------+-------+------+-------------------+-------------------+---------+-----------------+-------------------+-----------+\n",
            "|match_id|         date|               venue|    team1|    team2|stage|toss_winner|toss_decision|first_ings_score|first_ings_wkts|second_ings_score|second_ings_wkts|match_winner| won_by|margin|player_of_the_match|         top_scorer|highscore|     best_bowling|best_bowling_figure|double_runs|\n",
            "+--------+-------------+--------------------+---------+---------+-----+-----------+-------------+----------------+---------------+-----------------+----------------+------------+-------+------+-------------------+-------------------+---------+-----------------+-------------------+-----------+\n",
            "|       1|March 26,2022|Wankhede Stadium,...|  Chennai|  Kolkata|Group|    Kolkata|        Field|             131|              5|              133|               4|     Kolkata|Wickets|     6|        Umesh Yadav|           MS Dhoni|       50|     Dwayne Bravo|              3--20|        100|\n",
            "|       2|March 27,2022|Brabourne Stadium...|    Delhi|   Mumbai|Group|      Delhi|        Field|             177|              5|              179|               6|       Delhi|Wickets|     4|      Kuldeep Yadav|       Ishan Kishan|       81|    Kuldeep Yadav|              3--18|        162|\n",
            "|       3|March 27,2022|Dr DY Patil Sport...| Banglore|   Punjab|Group|     Punjab|        Field|             205|              2|              208|               5|      Punjab|Wickets|     5|        Odean Smith|     Faf du Plessis|       88|   Mohammed Siraj|              2--59|        176|\n",
            "|       4|March 28,2022|Wankhede Stadium,...|  Gujarat|  Lucknow|Group|    Gujarat|        Field|             158|              6|              161|               5|     Gujarat|Wickets|     5|     Mohammed Shami|       Deepak Hooda|       55|   Mohammed Shami|              3--25|        110|\n",
            "|       5|March 29,2022|Maharashtra Crick...|Hyderabad|Rajasthan|Group|  Hyderabad|        Field|             210|              6|              149|               7|   Rajasthan|   Runs|    61|       Sanju Samson|      Aiden Markram|       57| Yuzvendra Chahal|              3--22|        114|\n",
            "|       6|March 30,2022|Dr DY Patil Sport...| Banglore|  Kolkata|Group|   Banglore|        Field|             128|             10|              132|               7|    Banglore|Wickets|     3|  Wanindu Hasaranga|Sherfane Rutherford|       28|Wanindu Hasaranga|              4--20|         56|\n",
            "|       7|March 31,2022|Brabourne Stadium...|  Chennai|  Lucknow|Group|    Lucknow|        Field|             210|              7|              211|               4|     Lucknow|Wickets|     6|         Evin Lewis|    Quinton de Kock|       61|     Ravi Bishnoi|              2--24|        122|\n",
            "|       8| April 1,2022|Wankhede Stadium,...|  Kolkata|   Punjab|Group|    Kolkata|        Field|             137|             10|              141|               4|     Kolkata|Wickets|     6|        Umesh Yadav|      Andre Russell|       70|      Umesh Yadav|              4--23|        140|\n",
            "|       9| April 2,2022|Dr DY Patil Sport...|   Mumbai|Rajasthan|Group|     Mumbai|        Field|             193|              8|              170|               8|   Rajasthan|   Runs|    23|        Jos Buttler|        Jos Buttler|      100|   Jasprit Bumrah|              3--17|        200|\n",
            "|      10| April 2,2022|Maharashtra Crick...|    Delhi|  Gujarat|Group|      Delhi|        Field|             171|              6|              157|               9|     Gujarat|   Runs|    14|    Lockie Ferguson|       Shubman Gill|       84|  Lockie Ferguson|              4--28|        168|\n",
            "|      11| April 3,2022|Brabourne Stadium...|  Chennai|   Punjab|Group|    Chennai|        Field|             180|              8|              126|              10|      Punjab|   Runs|    54|   Liam Livingstone|   Liam Livingstone|       60|     Rahul Chahar|              3--25|        120|\n",
            "|      12| April 4,2022|Dr DY Patil Sport...|Hyderabad|  Lucknow|Group|  Hyderabad|        Field|             169|              7|              157|               9|     Lucknow|   Runs|    12|         Avesh Khan|           KL Rahul|       68|       Avesh Khan|              4--24|        136|\n",
            "|      13| April 5,2022|Wankhede Stadium,...| Banglore|Rajasthan|Group|   Banglore|        Field|             169|              3|              173|               6|    Banglore|Wickets|     4|     Dinesh Karthik|        Jos Buttler|       70| Yuzvendra Chahal|              2--15|        140|\n",
            "|      14| April 6,2022|Maharashtra Crick...|  Kolkata|   Mumbai|Group|    Kolkata|        Field|             161|              4|              162|               5|     Kolkata|Wickets|     5|        Pat Cummins|        Pat Cummins|       56|   Murugan Ashwin|              2--25|        112|\n",
            "|      15| April 7,2022|Dr DY Patil Sport...|    Delhi|  Lucknow|Group|    Lucknow|        Field|             149|              3|              155|               4|     Lucknow|Wickets|     6|    Quinton de Kock|    Quinton de Kock|       80|     Ravi Bishnoi|              2--22|        160|\n",
            "|      16| April 8,2022|Brabourne Stadium...|  Gujarat|   Punjab|Group|    Gujarat|        Field|             189|              9|              190|               4|     Gujarat|Wickets|     6|       Shubman Gill|       Shubman Gill|       96|      Rashid Khan|              3--22|        192|\n",
            "|      17| April 9,2022|Dr DY Patil Sport...|  Chennai|Hyderabad|Group|  Hyderabad|        Field|             154|              7|              155|               2|   Hyderabad|Wickets|     8|    Abhishek Sharma|    Abhishek Sharma|       75|Washington Sundar|              2--21|        150|\n",
            "|      18| April 9,2022|Maharashtra Crick...| Banglore|   Mumbai|Group|   Banglore|        Field|             151|              6|              152|               3|    Banglore|Wickets|     7|         Anuj Rawat|   Suryakumar Yadav|       68|    Harshal Patel|              2--23|        136|\n",
            "|      19|April 10,2022|Brabourne Stadium...|    Delhi|  Kolkata|Group|    Kolkata|        Field|             215|              5|              171|              10|       Delhi|   Runs|    44|      Kuldeep Yadav|       David Warner|       61|    Kuldeep Yadav|              4--35|        122|\n",
            "|      20|April 10,2022|Wankhede Stadium,...|  Lucknow|Rajasthan|Group|    Lucknow|        Field|             165|              6|              162|               8|   Rajasthan|   Runs|     3|   Yuzvendra Chahal|    Shimron Hetmyer|       59| Yuzvendra Chahal|              4--41|        118|\n",
            "+--------+-------------+--------------------+---------+---------+-----+-----------+-------------+----------------+---------------+-----------------+----------------+------------+-------+------+-------------------+-------------------+---------+-----------------+-------------------+-----------+\n",
            "only showing top 20 rows\n",
            "\n",
            "+--------+----+--------------------+---------+---------+-----+-----------+-------------+----------------+---------------+-----------------+----------------+------------+-------+------+-------------------+-------------------+---------+-----------------+-------------------+\n",
            "|match_id|date|               venue|    team1|    team2|stage|toss_winner|toss_decision|first_ings_score|first_ings_wkts|second_ings_score|second_ings_wkts|match_winner| won_by|margin|player_of_the_match|         top_scorer|highscore|     best_bowling|best_bowling_figure|\n",
            "+--------+----+--------------------+---------+---------+-----+-----------+-------------+----------------+---------------+-----------------+----------------+------------+-------+------+-------------------+-------------------+---------+-----------------+-------------------+\n",
            "|      67|null|Wankhede Stadium,...| Banglore|  Gujarat|Group|    Gujarat|          Bat|             168|              5|              170|               2|    Banglore|Wickets|     8|        Virat Kohli|        Virat Kohli|       73|      Rashid Khan|              2--32|\n",
            "|      51|null|Brabourne Stadium...|  Gujarat|   Mumbai|Group|    Gujarat|        Field|             177|              6|              172|               5|      Mumbai|   Runs|     5|          Tim David|            W. Saha|       55|      Rashid Khan|              2--24|\n",
            "|      46|null|Maharashtra Crick...|  Chennai|Hyderabad|Group|  Hyderabad|        Field|             202|              2|              189|               6|     Chennai|   Runs|    13|    Ruturaj Gaikwad|    Ruturaj Gaikwad|       99| Mukesh Choudhary|              4--46|\n",
            "|      15|null|Dr DY Patil Sport...|    Delhi|  Lucknow|Group|    Lucknow|        Field|             149|              3|              155|               4|     Lucknow|Wickets|     6|    Quinton de Kock|    Quinton de Kock|       80|     Ravi Bishnoi|              2--22|\n",
            "|      31|null|Dr DY Patil Sport...| Banglore|  Lucknow|Group|    Lucknow|        Field|             181|              6|              163|               8|    Banglore|   Runs|    18|     Faf du Plessis|     Faf du Plessis|       96|   Josh Hazlewood|              4--25|\n",
            "|       6|null|Dr DY Patil Sport...| Banglore|  Kolkata|Group|   Banglore|        Field|             128|             10|              132|               7|    Banglore|Wickets|     3|  Wanindu Hasaranga|Sherfane Rutherford|       28|Wanindu Hasaranga|              4--20|\n",
            "|      37|null|Wankhede Stadium,...|  Lucknow|   Mumbai|Group|     Mumbai|        Field|             168|              6|              132|               8|     Lucknow|   Runs|    36|          K L Rahul|           KL Rahul|      103|    Krunal Pandya|              3--19|\n",
            "|      30|null|Brabourne Stadium...|  Kolkata|Rajasthan|Group|    Kolkata|        Field|             217|              5|              210|              10|   Rajasthan|   Runs|     7|   Yuzvendra Chahal|        Jos Buttler|      103| Yuzvendra Chahal|              5--40|\n",
            "|      43|null|Brabourne Stadium...| Banglore|  Gujarat|Group|   Banglore|          Bat|             170|              6|              174|               4|     Gujarat|Wickets|     6|      Rahul Tewatia|        Virat Kohli|       58|  Pradeep Sangwan|              2--19|\n",
            "|      65|null|Wankhede Stadium,...|Hyderabad|   Mumbai|Group|     Mumbai|        Field|             193|              6|              190|               7|   Hyderabad|   Runs|     3|     Rahul Tripathi|     Rahul Tripathi|       76|  Ramandeep Singh|              3--20|\n",
            "|      21|null|Dr DY Patil Sport...|  Gujarat|Hyderabad|Group|  Hyderabad|        Field|             162|              7|              168|               2|   Hyderabad|Wickets|     8|    Kane Williamson|    Kane Williamson|       57|      T Natarajan|              2--34|\n",
            "|      33|null|Dr DY Patil Sport...|  Chennai|   Mumbai|Group|    Chennai|        Field|             155|              7|              156|               7|     Chennai|Wickets|     3|   Mukesh Choudhary|        Tilak Varma|       51|      Daniel Sams|              4--30|\n",
            "|      24|null|Dr DY Patil Sport...|  Gujarat|Rajasthan|Group|  Rajasthan|        Field|             192|              4|              155|               9|     Gujarat|   Runs|    37|      Hardik Pandya|      Hardik Pandya|       87|  Lockie Ferguson|              3--23|\n",
            "|      62|null|Wankhede Stadium,...|  Chennai|  Gujarat|Group|    Chennai|          Bat|             133|              5|              137|               3|     Gujarat|Wickets|     7|            W. Saha|            W. Saha|       67|   Mohammed Shami|              2--19|\n",
            "|      18|null|Maharashtra Crick...| Banglore|   Mumbai|Group|   Banglore|        Field|             151|              6|              152|               3|    Banglore|Wickets|     7|         Anuj Rawat|   Suryakumar Yadav|       68|    Harshal Patel|              2--23|\n",
            "|      64|null|Dr DY Patil Sport...|    Delhi|   Punjab|Group|     Punjab|        Field|             159|              7|              142|               9|       Delhi|   Runs|    17|     Shardul Thakur|     Mitchell Marsh|       63|    Shardul Takur|              4--36|\n",
            "|      66|null|Dr DY Patil Sport...|  Kolkata|  Lucknow|Group|    Lucknow|          Bat|             210|              0|              208|               8|     Lucknow|   Runs|     2|    Quinton de Kock|    Quinton de Kock|      140|      Mohsin Khan|              3--20|\n",
            "|      68|null|Brabourne Stadium...|  Chennai|Rajasthan|Group|    Chennai|          Bat|             150|              6|              151|               5|   Rajasthan|Wickets|     5|            R Aswin|          Moeen Ali|       93| Prashant Solanki|              2--20|\n",
            "|      19|null|Brabourne Stadium...|    Delhi|  Kolkata|Group|    Kolkata|        Field|             215|              5|              171|              10|       Delhi|   Runs|    44|      Kuldeep Yadav|       David Warner|       61|    Kuldeep Yadav|              4--35|\n",
            "|       5|null|Maharashtra Crick...|Hyderabad|Rajasthan|Group|  Hyderabad|        Field|             210|              6|              149|               7|   Rajasthan|   Runs|    61|       Sanju Samson|      Aiden Markram|       57| Yuzvendra Chahal|              3--22|\n",
            "+--------+----+--------------------+---------+---------+-----+-----------+-------------+----------------+---------------+-----------------+----------------+------------+-------+------+-------------------+-------------------+---------+-----------------+-------------------+\n",
            "only showing top 20 rows\n",
            "\n"
          ]
        }
      ],
      "source": [
        "import pyspark\n",
        "from pyspark.sql import SparkSession\n",
        "from pyspark.sql import functions as F\n",
        "from pyspark.sql.functions import expr\n",
        "from pyspark.sql.functions import col\n",
        "\n",
        "# Create a SparkSession\n",
        "spark = SparkSession.builder \\\n",
        "    .appName(\"Loads Data with PySpark\") \\\n",
        "    .getOrCreate()\n",
        "\n",
        "# Read data from CSV file\n",
        "data_path = \"/content/Book_ipl22_ver_33.csv\"\n",
        "df = spark.read.csv(data_path, header=True, inferSchema=True)\n",
        "\n",
        "# Perform transformations or data processing as needed\n",
        "selected_df = df.select(\"team1\", \"team2\", \"won_by\", \"highscore\")\n",
        "filtered_df = df.filter(df[\"highscore\"] > 60)\n",
        "\n",
        "grouped_df = df.groupBy(\"match_id\").agg(\n",
        "    F.avg(\"highscore\").alias(\"first_ings_score\"),\n",
        "    F.max(\"first_ings_wkts\").alias(\"match_winner\")\n",
        ")\n",
        "\n",
        "df_with_new_column = df.withColumn(\"double_runs\", expr(\"highscore * 2\"))\n",
        "\n",
        "team_runs_df = df.groupBy(\"team1\").agg(\n",
        "    F.sum(\"highscore\").alias(\"total_runs\")\n",
        ")\n",
        "df_with_new_column.show()\n",
        "\n",
        "# Handling Missing Values\n",
        "df_cleaned = df.dropna()  # Drop rows with any missing values\n",
        "\n",
        "# Removing Duplicates\n",
        "df_cleaned = df_cleaned.dropDuplicates()\n",
        "\n",
        "# Converting Data Types (if needed)\n",
        "df_cleaned = df_cleaned.withColumn(\"date\", col(\"date\").cast(\"date\"))  # Convert \"date\" column to DateType\n",
        "\n",
        "# Show the cleaned data\n",
        "df_cleaned.show()\n",
        "\n",
        "# Specify the output path for the Parquet file\n",
        "output_path_parquet = \"/content/output\"\n",
        "\n",
        "# Write the cleaned DataFrame to Parquet format\n",
        "df_cleaned.write.mode(\"overwrite\").parquet(output_path_parquet)\n",
        "\n",
        "# Stop the SparkSession\n",
        "spark.stop()\n"
      ]
    },
    {
      "cell_type": "code",
      "execution_count": 55,
      "metadata": {
        "colab": {
          "base_uri": "https://localhost:8080/"
        },
        "id": "T6ciiI5Be56L",
        "outputId": "817aa5e9-9dc1-4caf-9890-35457d605897"
      },
      "outputs": [
        {
          "name": "stdout",
          "output_type": "stream",
          "text": [
            "Collecting dash\n",
            "  Downloading dash-2.11.1-py3-none-any.whl (10.4 MB)\n",
            "\u001b[2K     \u001b[90m━━━━━━━━━━━━━━━━━━━━━━━━━━━━━━━━━━━━━━━━\u001b[0m \u001b[32m10.4/10.4 MB\u001b[0m \u001b[31m41.2 MB/s\u001b[0m eta \u001b[36m0:00:00\u001b[0m\n",
            "\u001b[?25hRequirement already satisfied: Flask<2.3.0,>=1.0.4 in /usr/local/lib/python3.10/dist-packages (from dash) (2.2.5)\n",
            "Collecting Werkzeug<2.3.0 (from dash)\n",
            "  Downloading Werkzeug-2.2.3-py3-none-any.whl (233 kB)\n",
            "\u001b[2K     \u001b[90m━━━━━━━━━━━━━━━━━━━━━━━━━━━━━━━━━━━━━━\u001b[0m \u001b[32m233.6/233.6 kB\u001b[0m \u001b[31m16.1 MB/s\u001b[0m eta \u001b[36m0:00:00\u001b[0m\n",
            "\u001b[?25hRequirement already satisfied: plotly>=5.0.0 in /usr/local/lib/python3.10/dist-packages (from dash) (5.13.1)\n",
            "Collecting dash-html-components==2.0.0 (from dash)\n",
            "  Downloading dash_html_components-2.0.0-py3-none-any.whl (4.1 kB)\n",
            "Collecting dash-core-components==2.0.0 (from dash)\n",
            "  Downloading dash_core_components-2.0.0-py3-none-any.whl (3.8 kB)\n",
            "Collecting dash-table==5.0.0 (from dash)\n",
            "  Downloading dash_table-5.0.0-py3-none-any.whl (3.9 kB)\n",
            "Requirement already satisfied: typing-extensions>=4.1.1 in /usr/local/lib/python3.10/dist-packages (from dash) (4.7.1)\n",
            "Requirement already satisfied: requests in /usr/local/lib/python3.10/dist-packages (from dash) (2.27.1)\n",
            "Collecting retrying (from dash)\n",
            "  Downloading retrying-1.3.4-py3-none-any.whl (11 kB)\n",
            "Collecting ansi2html (from dash)\n",
            "  Downloading ansi2html-1.8.0-py3-none-any.whl (16 kB)\n",
            "Requirement already satisfied: nest-asyncio in /usr/local/lib/python3.10/dist-packages (from dash) (1.5.6)\n",
            "Requirement already satisfied: Jinja2>=3.0 in /usr/local/lib/python3.10/dist-packages (from Flask<2.3.0,>=1.0.4->dash) (3.1.2)\n",
            "Requirement already satisfied: itsdangerous>=2.0 in /usr/local/lib/python3.10/dist-packages (from Flask<2.3.0,>=1.0.4->dash) (2.1.2)\n",
            "Requirement already satisfied: click>=8.0 in /usr/local/lib/python3.10/dist-packages (from Flask<2.3.0,>=1.0.4->dash) (8.1.6)\n",
            "Requirement already satisfied: tenacity>=6.2.0 in /usr/local/lib/python3.10/dist-packages (from plotly>=5.0.0->dash) (8.2.2)\n",
            "Requirement already satisfied: MarkupSafe>=2.1.1 in /usr/local/lib/python3.10/dist-packages (from Werkzeug<2.3.0->dash) (2.1.3)\n",
            "Requirement already satisfied: urllib3<1.27,>=1.21.1 in /usr/local/lib/python3.10/dist-packages (from requests->dash) (1.26.16)\n",
            "Requirement already satisfied: certifi>=2017.4.17 in /usr/local/lib/python3.10/dist-packages (from requests->dash) (2023.7.22)\n",
            "Requirement already satisfied: charset-normalizer~=2.0.0 in /usr/local/lib/python3.10/dist-packages (from requests->dash) (2.0.12)\n",
            "Requirement already satisfied: idna<4,>=2.5 in /usr/local/lib/python3.10/dist-packages (from requests->dash) (3.4)\n",
            "Requirement already satisfied: six>=1.7.0 in /usr/local/lib/python3.10/dist-packages (from retrying->dash) (1.16.0)\n",
            "Installing collected packages: dash-table, dash-html-components, dash-core-components, Werkzeug, retrying, ansi2html, dash\n",
            "  Attempting uninstall: Werkzeug\n",
            "    Found existing installation: Werkzeug 2.3.6\n",
            "    Uninstalling Werkzeug-2.3.6:\n",
            "      Successfully uninstalled Werkzeug-2.3.6\n",
            "Successfully installed Werkzeug-2.2.3 ansi2html-1.8.0 dash-2.11.1 dash-core-components-2.0.0 dash-html-components-2.0.0 dash-table-5.0.0 retrying-1.3.4\n"
          ]
        }
      ],
      "source": [
        "!pip install dash\n"
      ]
    },
    {
      "cell_type": "code",
      "execution_count": 60,
      "metadata": {
        "colab": {
          "base_uri": "https://localhost:8080/",
          "height": 671
        },
        "id": "ImZteJvWezGx",
        "outputId": "b7673853-34d2-4fa7-9a67-fad3f70d959e"
      },
      "outputs": [
        {
          "data": {
            "application/javascript": "(async (port, path, width, height, cache, element) => {\n    if (!google.colab.kernel.accessAllowed && !cache) {\n      return;\n    }\n    element.appendChild(document.createTextNode(''));\n    const url = await google.colab.kernel.proxyPort(port, {cache});\n    const iframe = document.createElement('iframe');\n    iframe.src = new URL(path, url).toString();\n    iframe.height = height;\n    iframe.width = width;\n    iframe.style.border = 0;\n    iframe.allow = [\n        'accelerometer',\n        'autoplay',\n        'camera',\n        'clipboard-read',\n        'clipboard-write',\n        'gyroscope',\n        'magnetometer',\n        'microphone',\n        'serial',\n        'usb',\n        'xr-spatial-tracking',\n    ].join('; ');\n    element.appendChild(iframe);\n  })(8050, \"/\", \"100%\", 650, false, window.element)",
            "text/plain": [
              "<IPython.core.display.Javascript object>"
            ]
          },
          "metadata": {},
          "output_type": "display_data"
        }
      ],
      "source": [
        "import pandas as pd\n",
        "import dash\n",
        "from dash import dcc\n",
        "from dash import html\n",
        "from dash.dependencies import Input, Output\n",
        "\n",
        "\n",
        "# Load the Parquet data into a pandas DataFrame\n",
        "parquet_path = \"/content/output\"\n",
        "df_parquet = pd.read_parquet(parquet_path)\n",
        "\n",
        "# Create a Dash app\n",
        "app = dash.Dash(__name__)\n",
        "\n",
        "# Layout of the Dash app\n",
        "app.layout = html.Div([\n",
        "    # Add your interactive components and visualizations here\n",
        "    dcc.Dropdown(\n",
        "        id='team-dropdown',\n",
        "        options=[{'label': team, 'value': team} for team in df_parquet['team1'].unique()],\n",
        "        value=df_parquet['team1'].unique()[0]\n",
        "    ),\n",
        "    dcc.Graph(id='highscore-graph')\n",
        "])\n",
        "\n",
        "# Callback to update the highscore graph based on selected team\n",
        "@app.callback(\n",
        "    Output('highscore-graph', 'figure'),\n",
        "    Input('team-dropdown', 'value')\n",
        ")\n",
        "def update_highscore_graph(selected_team):\n",
        "    filtered_df = df_parquet[df_parquet['team1'] == selected_team]\n",
        "    # Perform any additional data processing or visualizations here\n",
        "    # ...\n",
        "\n",
        "    # Return the updated figure\n",
        "    # For example:\n",
        "    figure = {\n",
        "        'data': [\n",
        "            {'x': filtered_df['date'], 'y': filtered_df['highscore'], 'type': 'line', 'name': 'Highscore'},\n",
        "        ],\n",
        "        'layout': {\n",
        "            'title': f'Highscore for {selected_team}'\n",
        "        }\n",
        "    }\n",
        "    return figure\n",
        "\n",
        "if __name__ == '__main__':\n",
        "    app.run_server(debug=True)\n"
      ]
    },
    {
      "cell_type": "code",
      "execution_count": 58,
      "metadata": {
        "colab": {
          "base_uri": "https://localhost:8080/",
          "height": 671
        },
        "id": "reH5b9E9fqVt",
        "outputId": "73d88e40-597d-4ede-bf1e-4439efd827f1"
      },
      "outputs": [
        {
          "data": {
            "application/javascript": "(async (port, path, width, height, cache, element) => {\n    if (!google.colab.kernel.accessAllowed && !cache) {\n      return;\n    }\n    element.appendChild(document.createTextNode(''));\n    const url = await google.colab.kernel.proxyPort(port, {cache});\n    const iframe = document.createElement('iframe');\n    iframe.src = new URL(path, url).toString();\n    iframe.height = height;\n    iframe.width = width;\n    iframe.style.border = 0;\n    iframe.allow = [\n        'accelerometer',\n        'autoplay',\n        'camera',\n        'clipboard-read',\n        'clipboard-write',\n        'gyroscope',\n        'magnetometer',\n        'microphone',\n        'serial',\n        'usb',\n        'xr-spatial-tracking',\n    ].join('; ');\n    element.appendChild(iframe);\n  })(8050, \"/\", \"100%\", 650, false, window.element)",
            "text/plain": [
              "<IPython.core.display.Javascript object>"
            ]
          },
          "metadata": {},
          "output_type": "display_data"
        }
      ],
      "source": [
        "import pandas as pd\n",
        "import dash\n",
        "from dash import dcc\n",
        "from dash import html\n",
        "from dash.dependencies import Input, Output\n",
        "\n",
        "# Load the Parquet data into a pandas DataFrame\n",
        "parquet_path = \"/content/output\"\n",
        "df_parquet = pd.read_parquet(parquet_path)\n",
        "\n",
        "# Data Processing: Calculate the average highscore and total matches played for each team\n",
        "team_stats = df_parquet.groupby('team1').agg({\n",
        "    'highscore': 'mean',\n",
        "    'match_id': 'count'\n",
        "}).reset_index()\n",
        "team_stats.columns = ['Team', 'Average Highscore', 'Total Matches']\n",
        "\n",
        "# Create a Dash app\n",
        "app = dash.Dash(__name__)\n",
        "\n",
        "# Layout of the Dash app\n",
        "app.layout = html.Div([\n",
        "    # Add your interactive components and visualizations here\n",
        "    dcc.Dropdown(\n",
        "        id='team-dropdown',\n",
        "        options=[{'label': team, 'value': team} for team in df_parquet['team1'].unique()],\n",
        "        value=df_parquet['team1'].unique()[0]\n",
        "    ),\n",
        "    dcc.Graph(id='highscore-graph'),\n",
        "    dcc.Graph(id='team-stats-graph')\n",
        "])\n",
        "\n",
        "# Callback to update the highscore graph based on selected team\n",
        "@app.callback(\n",
        "    Output('highscore-graph', 'figure'),\n",
        "    Input('team-dropdown', 'value')\n",
        ")\n",
        "def update_highscore_graph(selected_team):\n",
        "    filtered_df = df_parquet[df_parquet['team1'] == selected_team]\n",
        "\n",
        "    # Visualization: Create a line chart showing the highscore trend for the selected team\n",
        "    figure = {\n",
        "        'data': [\n",
        "            {'x': filtered_df['date'], 'y': filtered_df['highscore'], 'type': 'line', 'name': 'Highscore'},\n",
        "        ],\n",
        "        'layout': {\n",
        "            'title': f'Highscore for {selected_team}'\n",
        "        }\n",
        "    }\n",
        "    return figure\n",
        "\n",
        "# Callback to update the team stats graph\n",
        "@app.callback(\n",
        "    Output('team-stats-graph', 'figure'),\n",
        "    Input('team-dropdown', 'value')\n",
        ")\n",
        "def update_team_stats_graph(selected_team):\n",
        "    # Filter the team stats for the selected team\n",
        "    team_stat = team_stats[team_stats['Team'] == selected_team]\n",
        "\n",
        "    # Visualization: Create a bar chart showing the average highscore for each team\n",
        "    figure = {\n",
        "        'data': [\n",
        "            {'x': team_stats['Team'], 'y': team_stats['Average Highscore'], 'type': 'bar', 'name': 'Average Highscore'},\n",
        "        ],\n",
        "        'layout': {\n",
        "            'title': 'Average Highscore for Each Team',\n",
        "            'xaxis': {'title': 'Team'},\n",
        "            'yaxis': {'title': 'Average Highscore'}\n",
        "        }\n",
        "    }\n",
        "    return figure\n",
        "\n",
        "if __name__ == '__main__':\n",
        "    app.run_server(debug=True)\n"
      ]
    },
    {
      "cell_type": "code",
      "execution_count": 61,
      "metadata": {
        "colab": {
          "base_uri": "https://localhost:8080/",
          "height": 671
        },
        "id": "xOzUmrYhgZXG",
        "outputId": "87b5d94d-187b-4294-cfd1-f2761bad2543"
      },
      "outputs": [
        {
          "data": {
            "application/javascript": "(async (port, path, width, height, cache, element) => {\n    if (!google.colab.kernel.accessAllowed && !cache) {\n      return;\n    }\n    element.appendChild(document.createTextNode(''));\n    const url = await google.colab.kernel.proxyPort(port, {cache});\n    const iframe = document.createElement('iframe');\n    iframe.src = new URL(path, url).toString();\n    iframe.height = height;\n    iframe.width = width;\n    iframe.style.border = 0;\n    iframe.allow = [\n        'accelerometer',\n        'autoplay',\n        'camera',\n        'clipboard-read',\n        'clipboard-write',\n        'gyroscope',\n        'magnetometer',\n        'microphone',\n        'serial',\n        'usb',\n        'xr-spatial-tracking',\n    ].join('; ');\n    element.appendChild(iframe);\n  })(8050, \"/\", \"100%\", 650, false, window.element)",
            "text/plain": [
              "<IPython.core.display.Javascript object>"
            ]
          },
          "metadata": {},
          "output_type": "display_data"
        }
      ],
      "source": [
        "import pandas as pd\n",
        "import dash\n",
        "from dash import dcc\n",
        "from dash import html\n",
        "from dash.dependencies import Input, Output\n",
        "\n",
        "# Load the Parquet data into a pandas DataFrame\n",
        "parquet_path = \"/content/output\"\n",
        "df_parquet = pd.read_parquet(parquet_path)\n",
        "\n",
        "# Create a Dash app\n",
        "app = dash.Dash(__name__)\n",
        "\n",
        "# Layout of the Dash app\n",
        "app.layout = html.Div([\n",
        "    html.H1(\"IPL Match Information\"),\n",
        "    dcc.Dropdown(\n",
        "        id='match-dropdown',\n",
        "        options=[{'label': str(match_id), 'value': match_id} for match_id in df_parquet['match_id'].unique()],\n",
        "        value=df_parquet['match_id'].unique()[0]\n",
        "    ),\n",
        "    html.Div(id='match-info')\n",
        "])\n",
        "\n",
        "# Callback to display match information\n",
        "@app.callback(\n",
        "    Output('match-info', 'children'),\n",
        "    Input('match-dropdown', 'value')\n",
        ")\n",
        "def display_match_info(selected_match_id):\n",
        "    # Filter the DataFrame for the selected match ID\n",
        "    match_info = df_parquet[df_parquet['match_id'] == selected_match_id].iloc[0]\n",
        "\n",
        "    # Create an HTML table to display the match information\n",
        "    table = html.Table([\n",
        "        html.Tr([html.Th(\"Match ID\"), html.Td(selected_match_id)]),\n",
        "        html.Tr([html.Th(\"Team 1\"), html.Td(match_info['team1'])]),\n",
        "        html.Tr([html.Th(\"Team 2\"), html.Td(match_info['team2'])]),\n",
        "        html.Tr([html.Th(\"Date\"), html.Td(match_info['date'])]),\n",
        "        html.Tr([html.Th(\"Venue\"), html.Td(match_info['venue'])]),\n",
        "        html.Tr([html.Th(\"Highscore\"), html.Td(match_info['highscore'])]),\n",
        "        # Add more information fields as needed\n",
        "    ], style={'border-collapse': 'collapse'})\n",
        "\n",
        "    return table\n",
        "\n",
        "if __name__ == '__main__':\n",
        "    app.run_server(debug=True)\n"
      ]
    },
    {
      "cell_type": "code",
      "execution_count": 62,
      "metadata": {
        "colab": {
          "base_uri": "https://localhost:8080/",
          "height": 671
        },
        "id": "9Jkv0tI6hOUk",
        "outputId": "cb93bc78-12ec-4837-bd94-7be4192541ef"
      },
      "outputs": [
        {
          "data": {
            "application/javascript": "(async (port, path, width, height, cache, element) => {\n    if (!google.colab.kernel.accessAllowed && !cache) {\n      return;\n    }\n    element.appendChild(document.createTextNode(''));\n    const url = await google.colab.kernel.proxyPort(port, {cache});\n    const iframe = document.createElement('iframe');\n    iframe.src = new URL(path, url).toString();\n    iframe.height = height;\n    iframe.width = width;\n    iframe.style.border = 0;\n    iframe.allow = [\n        'accelerometer',\n        'autoplay',\n        'camera',\n        'clipboard-read',\n        'clipboard-write',\n        'gyroscope',\n        'magnetometer',\n        'microphone',\n        'serial',\n        'usb',\n        'xr-spatial-tracking',\n    ].join('; ');\n    element.appendChild(iframe);\n  })(8050, \"/\", \"100%\", 650, false, window.element)",
            "text/plain": [
              "<IPython.core.display.Javascript object>"
            ]
          },
          "metadata": {},
          "output_type": "display_data"
        }
      ],
      "source": [
        "import pandas as pd\n",
        "import dash\n",
        "from dash import dcc\n",
        "from dash import html\n",
        "from dash.dependencies import Input, Output\n",
        "import plotly.express as px\n",
        "\n",
        "# Load the Parquet data into a pandas DataFrame\n",
        "parquet_path = \"/content/output\"\n",
        "df_parquet = pd.read_parquet(parquet_path)\n",
        "\n",
        "# Create a Dash app\n",
        "app = dash.Dash(__name__)\n",
        "\n",
        "# Layout of the Dash app\n",
        "app.layout = html.Div([\n",
        "    html.H1(\"IPL Match Information\"),\n",
        "    dcc.Dropdown(\n",
        "        id='match-dropdown',\n",
        "        options=[{'label': str(match_id), 'value': match_id} for match_id in df_parquet['match_id'].unique()],\n",
        "        value=df_parquet['match_id'].unique()[0]\n",
        "    ),\n",
        "    html.Div(id='match-info'),\n",
        "    dcc.Graph(id='bar-graph')\n",
        "])\n",
        "\n",
        "# Callback to display match information and bar graph\n",
        "@app.callback(\n",
        "    [Output('match-info', 'children'),\n",
        "     Output('bar-graph', 'figure')],\n",
        "    Input('match-dropdown', 'value')\n",
        ")\n",
        "def display_match_info(selected_match_id):\n",
        "    # Filter the DataFrame for the selected match ID\n",
        "    match_info = df_parquet[df_parquet['match_id'] == selected_match_id].iloc[0]\n",
        "\n",
        "    # Create an HTML table to display the match information\n",
        "    table = html.Table([\n",
        "        html.Tr([html.Th(\"Match ID\"), html.Td(selected_match_id)]),\n",
        "        html.Tr([html.Th(\"Team 1\"), html.Td(match_info['team1'])]),\n",
        "        html.Tr([html.Th(\"Team 2\"), html.Td(match_info['team2'])]),\n",
        "        html.Tr([html.Th(\"Date\"), html.Td(match_info['date'])]),\n",
        "        html.Tr([html.Th(\"Venue\"), html.Td(match_info['venue'])]),\n",
        "        html.Tr([html.Th(\"Highscore\"), html.Td(match_info['highscore'])]),\n",
        "        # Add more information fields as needed\n",
        "    ], style={'border-collapse': 'collapse'})\n",
        "\n",
        "    # Create a bar graph to display high scores of both teams\n",
        "    bar_fig = px.bar(df_parquet[df_parquet['match_id'] == selected_match_id], x='team1', y='highscore',\n",
        "                     title=f\"High Scores of {match_info['team1']} and {match_info['team2']}\")\n",
        "\n",
        "    return table, bar_fig\n",
        "\n",
        "if __name__ == '__main__':\n",
        "    app.run_server(debug=True)\n"
      ]
    },
    {
      "cell_type": "code",
      "execution_count": null,
      "metadata": {
        "id": "77kl-xK0IGOp"
      },
      "outputs": [],
      "source": []
    }
  ],
  "metadata": {
    "colab": {
      "provenance": []
    },
    "kernelspec": {
      "display_name": "Python 3",
      "name": "python3"
    },
    "language_info": {
      "name": "python"
    }
  },
  "nbformat": 4,
  "nbformat_minor": 0
}
